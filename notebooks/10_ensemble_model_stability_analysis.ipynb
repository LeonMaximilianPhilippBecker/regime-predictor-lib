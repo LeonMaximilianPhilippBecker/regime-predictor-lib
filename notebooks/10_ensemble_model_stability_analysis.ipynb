{
 "cells": [
  {
   "cell_type": "code",
   "execution_count": null,
   "metadata": {},
   "outputs": [],
   "source": [
    "import pandas as pd\n",
    "import numpy as np\n",
    "import matplotlib.pyplot as plt\n",
    "import seaborn as sns\n",
    "from pathlib import Path\n",
    "\n",
    "plt.style.use('seaborn-v0_8-whitegrid')\n",
    "sns.set_context('notebook')\n",
    "pd.set_option('display.max_rows', 100)"
   ]
  },
  {
   "cell_type": "code",
   "execution_count": null,
   "metadata": {},
   "outputs": [],
   "source": [
    "USE_ENSEMBLE_WITH_REGIME_T = True\n",
    "\n",
    "EXPERIMENT_NAME = f\"logistic_ensemble_{'with_regime_t' if USE_ENSEMBLE_WITH_REGIME_T else 'no_regime_t'}\"\n",
    "MODEL_NAME = \"LogisticRegression\"\n",
    "\n",
    "PROJECT_ROOT = Path.cwd().parent\n",
    "RUN_REPORT_DIR = PROJECT_ROOT / 'data' / 'reports' / 'supervised_learning' / EXPERIMENT_NAME / MODEL_NAME\n",
    "\n",
    "CV_METRICS_PATH = RUN_REPORT_DIR / 'cv_results' / 'cv_fold_metrics.csv'\n",
    "MDA_SCORES_PATH = RUN_REPORT_DIR / 'mda_results' / 'mda_scores.csv'"
   ]
  },
  {
   "cell_type": "code",
   "execution_count": null,
   "metadata": {},
   "outputs": [],
   "source": [
    "if not CV_METRICS_PATH.exists():\n",
    "    raise FileNotFoundError(f\"CV metrics file not found: {CV_METRICS_PATH}\")\n",
    "\n",
    "cv_metrics_df = pd.read_csv(CV_METRICS_PATH)\n",
    "print(f\"Loaded CV metrics for {len(cv_metrics_df)} folds.\")\n",
    "cv_metrics_df"
   ]
  },
  {
   "cell_type": "markdown",
   "metadata": {},
   "source": [
    "## 2. Analyze Performance Stability Across Folds"
   ]
  },
  {
   "cell_type": "code",
   "execution_count": null,
   "metadata": {},
   "outputs": [],
   "source": [
    "metrics_to_plot = ['log_loss', 'mcc', 'f1_macro', 'accuracy']\n",
    "\n",
    "fig, axes = plt.subplots(len(metrics_to_plot), 1, figsize=(12, 5 * len(metrics_to_plot)), sharex=True)\n",
    "fig.suptitle(f'Performance Metrics Across Folds for {MODEL_NAME}', fontsize=16)\n",
    "\n",
    "for i, metric in enumerate(metrics_to_plot):\n",
    "    ax = axes[i]\n",
    "    sns.barplot(x='fold', y=metric, data=cv_metrics_df, ax=ax, palette='viridis')\n",
    "    mean_val = cv_metrics_df[metric].mean()\n",
    "    std_val = cv_metrics_df[metric].std()\n",
    "    ax.axhline(mean_val, color='r', linestyle='--', label=f'Mean: {mean_val:.3f} ± {std_val:.3f}')\n",
    "    ax.set_title(f'{metric.replace(\"_\", \" \").title()}')\n",
    "    ax.set_xlabel('')\n",
    "    ax.set_ylabel('Score')\n",
    "    ax.legend()\n",
    "\n",
    "axes[-1].set_xlabel('Fold Number')\n",
    "plt.tight_layout(rect=[0, 0, 1, 0.96])\n",
    "plt.show()"
   ]
  },
  {
   "cell_type": "markdown",
   "metadata": {},
   "source": [
    "## 3. Load and Analyze Feature Importance (MDA) Stability"
   ]
  },
  {
   "cell_type": "code",
   "execution_count": null,
   "metadata": {},
   "outputs": [],
   "source": [
    "if not MDA_SCORES_PATH.exists():\n",
    "    raise FileNotFoundError(f\"MDA scores file not found: {MDA_SCORES_PATH}\")\n",
    "    \n",
    "mda_df = pd.read_csv(MDA_SCORES_PATH)\n",
    "print(f\"Loaded MDA scores for {len(mda_df['feature'].unique())} features across {len(mda_df['fold'].unique())} folds.\")"
   ]
  },
  {
   "cell_type": "code",
   "execution_count": null,
   "metadata": {},
   "outputs": [],
   "source": [
    "# Aggregate to find the most important features on average\n",
    "mean_importances = mda_df.groupby('feature')['importance'].mean().sort_values(ascending=False)\n",
    "top_n = 30 # Show top 30 features\n",
    "top_features = mean_importances.head(top_n).index.tolist()\n",
    "\n",
    "df_top_mda = mda_df[mda_df['feature'].isin(top_features)]\n",
    "\n",
    "fig, ax = plt.subplots(figsize=(12, 10))\n",
    "sns.boxplot(\n",
    "    x='importance',\n",
    "    y='feature',\n",
    "    data=df_top_mda,\n",
    "    order=top_features,\n",
    "    orient='h',\n",
    "    palette='viridis_r',\n",
    "    ax=ax\n",
    ")\n",
    "\n",
    "ax.axvline(x=0, color='r', linestyle='--', linewidth=1.2, label='Zero Importance')\n",
    "ax.set_title(f'Ensemble Feature Importance Stability (MDA)', fontsize=16)\n",
    "ax.set_xlabel('MDA Importance (Increase in LogLoss)')\n",
    "ax.set_ylabel('Input Feature (Thematic Model Output)')\n",
    "ax.legend()\n",
    "plt.tight_layout()\n",
    "plt.show()"
   ]
  },
  {
   "cell_type": "code",
   "outputs": [],
   "source": [],
   "metadata": {
    "collapsed": false
   }
  }
 ],
 "metadata": {
  "kernelspec": {
   "display_name": "Python 3",
   "language": "python",
   "name": "python3"
  }
 },
 "nbformat": 4,
 "nbformat_minor": 2
}
