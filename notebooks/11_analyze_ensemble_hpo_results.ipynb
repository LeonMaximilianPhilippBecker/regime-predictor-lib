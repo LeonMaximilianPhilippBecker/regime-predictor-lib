{
 "cells": [
  {
   "cell_type": "code",
   "execution_count": null,
   "metadata": {},
   "outputs": [],
   "source": [
    "import sys\n",
    "from pathlib import Path\n",
    "import pandas as pd\n",
    "import numpy as np\n",
    "import joblib\n",
    "import optuna\n",
    "import matplotlib.pyplot as plt\n",
    "import seaborn as sns\n",
    "\n",
    "PROJECT_ROOT_PATH = Path.cwd().parent\n",
    "if str(PROJECT_ROOT_PATH / 'src') not in sys.path:\n",
    "    sys.path.insert(0, str(PROJECT_ROOT_PATH / 'src'))\n",
    "\n",
    "sns.set_theme(style=\"whitegrid\", palette=\"mako\")\n",
    "plt.rcParams['figure.dpi'] = 100"
   ]
  },
  {
   "cell_type": "code",
   "execution_count": null,
   "metadata": {},
   "outputs": [],
   "source": [
    "USE_ENSEMBLE_WITH_REGIME_T = True\n",
    "\n",
    "EXPERIMENT_NAME = f\"logistic_ensemble_{'with_regime_t' if USE_ENSEMBLE_WITH_REGIME_T else 'no_regime_t'}\"\n",
    "MODEL_NAME = \"LogisticRegression\"\n",
    "\n",
    "HPO_RESULTS_DIR = PROJECT_ROOT_PATH / \"data\" / \"hpo_results\"\n",
    "STUDY_FILENAME = f\"{EXPERIMENT_NAME}_{MODEL_NAME}_study.pkl\""
   ]
  },
  {
   "cell_type": "markdown",
   "metadata": {},
   "source": [
    "## 1. Load Optuna Study Object"
   ]
  },
  {
   "cell_type": "code",
   "execution_count": null,
   "metadata": {},
   "outputs": [],
   "source": [
    "study_path = HPO_RESULTS_DIR / STUDY_FILENAME\n",
    "\n",
    "if not study_path.exists():\n",
    "    raise FileNotFoundError(f\"Optuna study file not found at: {study_path}. Please run script #46 first.\")\n",
    "\n",
    "study = joblib.load(study_path)\n",
    "print(f\"Study '{study.study_name}' loaded successfully.\")\n",
    "print(f\"Number of trials: {len(study.trials)}\")\n",
    "print(f\"Best trial value (LogLoss): {study.best_value:.4f}\")\n",
    "print(\"Best parameters:\")\n",
    "for key, value in study.best_params.items():\n",
    "    print(f\"  {key}: {value}\")"
   ]
  },
  {
   "cell_type": "markdown",
   "metadata": {},
   "source": [
    "## 2. Visualize Optimization History"
   ]
  },
  {
   "cell_type": "code",
   "execution_count": null,
   "metadata": {},
   "outputs": [],
   "source": [
    "fig = optuna.visualization.plot_optimization_history(study)\n",
    "fig.update_layout(title=f'Optimization History for {EXPERIMENT_NAME}')\n",
    "fig.show()"
   ]
  },
  {
   "cell_type": "markdown",
   "metadata": {},
   "source": [
    "## 3. Visualize Hyperparameter Importances\n",
    "\n",
    "This chart shows which hyperparameters had the biggest impact on the final objective score."
   ]
  },
  {
   "cell_type": "code",
   "execution_count": null,
   "metadata": {},
   "outputs": [],
   "source": [
    "try:\n",
    "    fig_imp = optuna.visualization.plot_param_importances(study)\n",
    "    fig_imp.update_layout(title=f'Hyperparameter Importance for {MODEL_NAME}')\n",
    "    fig_imp.show()\n",
    "except Exception as e:\n",
    "    print(f\"Could not generate importance plot: {e}\")"
   ]
  },
  {
   "cell_type": "markdown",
   "metadata": {},
   "source": [
    "## 4. Visualize Parameter Relationships (Slice Plot)\n",
    "\n",
    "This plot shows slices of the objective value function for each hyperparameter."
   ]
  },
  {
   "cell_type": "code",
   "execution_count": null,
   "metadata": {},
   "outputs": [],
   "source": [
    "try:\n",
    "    fig_slice = optuna.visualization.plot_slice(study)\n",
    "    fig_slice.update_layout(title=f'Slice Plot for {MODEL_NAME} Hyperparameters')\n",
    "    fig_slice.show()\n",
    "except Exception as e:\n",
    "    print(f\"Could not generate slice plot: {e}\")"
   ]
  },
  {
   "cell_type": "markdown",
   "metadata": {},
   "source": [
    "## 5. Parallel Coordinate Plot\n",
    "\n",
    "This plot helps to visualize the relationships between different hyperparameter combinations and their resulting objective value. High-performing trials are highlighted."
   ]
  },
  {
   "cell_type": "code",
   "execution_count": null,
   "metadata": {},
   "outputs": [],
   "source": [
    "try:\n",
    "    fig_pc = optuna.visualization.plot_parallel_coordinate(study)\n",
    "    fig_pc.update_layout(title=f'Parallel Coordinate Plot for {MODEL_NAME}')\n",
    "    fig_pc.show()\n",
    "except Exception as e:\n",
    "    print(f\"Could not generate parallel coordinate plot: {e}\")"
   ]
  },
  {
   "cell_type": "code",
   "outputs": [],
   "source": [],
   "metadata": {
    "collapsed": false
   },
   "execution_count": null
  },
  {
   "cell_type": "code",
   "outputs": [],
   "source": [],
   "metadata": {
    "collapsed": false
   }
  }
 ],
 "metadata": {
  "kernelspec": {
   "display_name": "Python 3 (ipykernel)",
   "language": "python",
   "name": "python3"
  },
  "language_info": {
   "codemirror_mode": {
    "name": "ipython",
    "version": 3
   },
   "file_extension": ".py",
   "mimetype": "text/x-python",
   "name": "python",
   "nbconvert_exporter": "python",
   "pygments_lexer": "ipython3",
   "version": "3.10.12"
  }
 },
 "nbformat": 4,
 "nbformat_minor": 4
}
